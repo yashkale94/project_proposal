{
 "cells": [
  {
   "cell_type": "markdown",
   "metadata": {},
   "source": [
    "# PROJECT PROPOSAL"
   ]
  },
  {
   "cell_type": "markdown",
   "metadata": {},
   "source": [
    "__MOTIVATION__\n",
    "1. It has been a long time since I have been planning to study the results of the English Premier League. I want to examine the trend of clubs that have been relegated, that have ended up winning the league and see how they perform from season to season.\n",
    "2. I also want to examine the effects of external factors like referees, or stadiums which the players play in and how that affects the performances of the players on the pitch. This could give a really good insight into the mental aspect of players of a football club. The referees play a big role in deciding the outcomes of matches. Does a particular referee affect the result of a football match? Do we see a correlation between some club and a referee, to an extent that we see that referee affecting the results of the match that club plays in?\n",
    "3. Another factor that I would like to examine is the effect of playing in front of the home fans vs playing in front of the away games. Does a stadium change make any difference to the outcome of results? Some clubs do really well at their home stadium, where as some clubs play particularly well against higher ranked teams. \n",
    "5. The fiery games (called derbies) are always very heated matches. In these matches, the form of a club always goes for a toss. These are very fiercely contested. Do clubs’ forms change after having a very good result in these derby matches? This causes an uptrend in their form.\n",
    "6. I want to check if a team starts well in a season, does it help/ has no effect in its final position in the league table?\n"
   ]
  },
  {
   "cell_type": "markdown",
   "metadata": {},
   "source": [
    "__DATASET__\n",
    "\n",
    "The dataset can be found on the following website: https://www.football-data.co.uk/data.php\n",
    "The dataset contains historical information about the different premier league teams that play in England. The different fields in the dataset provide us with basic data points of the match like goals scored, half time goals scored, goals scored by the home team as well as the away team, number of red cards and yellow cards per team, referee for each match, shots on target, betting odds for these matches, etc. It also provides which was the home team and which was the away team. We have this data for the last 25 years, although I plan to use the last 8-9 years of data.\n",
    "\n",
    "There is no specific licensing page that is present on the webpage, however they have mentioned this on their website, quote: *\"You are free experiment with the data yourselves\"* and *\"Like all of Football-Data's files, it free to download.\"*\n",
    "\n",
    "I plan to use this dataset, by analysing if away/home games make a difference to the scoreline of teams. If the home team is trailing at half time, does the home crowd/home stadium help the home team make a comeback? How much of a role does the referee make in terms of deciding the outcome of a match. I also plan to see if clubs which are the big spenders, does a managerial change affect how the club performs?\n",
    "I feel the impact of this analysis is pretty big in terms of how clubs approach certain games. For some teams, they make more fouls, whereas against some teams, they do not change the line ups for home games. This is the reason I chose to study this dataset."
   ]
  }
 ],
 "metadata": {
  "kernelspec": {
   "display_name": "Python 3",
   "language": "python",
   "name": "python3"
  },
  "language_info": {
   "codemirror_mode": {
    "name": "ipython",
    "version": 3
   },
   "file_extension": ".py",
   "mimetype": "text/x-python",
   "name": "python",
   "nbconvert_exporter": "python",
   "pygments_lexer": "ipython3",
   "version": "3.7.0"
  }
 },
 "nbformat": 4,
 "nbformat_minor": 2
}
